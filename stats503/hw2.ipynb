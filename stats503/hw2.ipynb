{
 "cells": [
  {
   "cell_type": "markdown",
   "metadata": {},
   "source": [
    "### Problem 1\n",
    "(a) \n",
    "$$\n",
    "d(x^{(1)}, x^{(te)}) = \\sqrt{0^2 + 3^2 + 0^2} = 3\n",
    "$$\n",
    "$$\n",
    "d(x^{(2)}, x^{(te)}) = \\sqrt{2^2 + 0^2 + 0^2} = 2\n",
    "$$\n",
    "$$\n",
    "d(x^{(3)}, x^{(te)}) = \\sqrt{0^2 + 3^2 + 0^2} = 3\n",
    "$$\n",
    "$$\n",
    "d(x^{(4)}, x^{(te)}) = \\sqrt{0^2 + 1^2 + 2^2} = \\sqrt{5}\n",
    "$$\n",
    "$$\n",
    "d(x^{(5)}, x^{(te)}) = \\sqrt{(-1)^2 + 0^2 + 1^2} = \\sqrt{2}\n",
    "$$\n",
    "$$\n",
    "d(x^{(6)}, x^{(te)}) = \\sqrt{1^2 + 1^2 + 2^2} = \\sqrt{6}\n",
    "$$"
   ]
  },
  {
   "cell_type": "markdown",
   "metadata": {},
   "source": [
    "(b) $K = 3$, we need to find the closest 3 points to $x^{(te)}$. Since\n",
    "$$\n",
    "\\sqrt{2} < 2 < \\sqrt{5} < \\sqrt{6} < 3\n",
    "$$\n",
    "so the closest 3 points are $\\{x^{(5)}, x^{(4)}, x^{(2)}\\}. The labels of these observations are Green, Green, Red. Because the amount of Green is larger than the amount of Red, the prediction should be\n",
    "$$\n",
    "\\hat{y}^{(3)}(x^{(te)}; \\mathcal{D}) = \\text{Green} \n",
    "$$"
   ]
  },
  {
   "cell_type": "markdown",
   "metadata": {},
   "source": [
    "(c) $K = 1$, and we know the closest point to $x^{(te)}$ is $x^{(5)}$, which is labeled to be Green. Therefore, the prediction should be\n",
    "$$\n",
    "\\hat{y}^{(1)}(x^{(te)}; \\mathcal{D}) = \\text{Green} \n",
    "$$"
   ]
  },
  {
   "cell_type": "markdown",
   "metadata": {},
   "source": [
    "(d) True. 3NN is more stable than 1NN since it utilizes information from 3 observations. "
   ]
  },
  {
   "cell_type": "markdown",
   "metadata": {},
   "source": [
    "### Problem 2\n",
    "(a) False.\n",
    "\n",
    "(b) As we uses more and more flexible methods, predictive error on testing data decreases at first, and starts to increase at some point. "
   ]
  },
  {
   "cell_type": "markdown",
   "metadata": {},
   "source": [
    "### Problem 3\n",
    "(a) When $x = 0.5$, $[Y|X = 0.5] \\sim \\text{Uniform}[0.5 + cos(\\pi) - .1, 0.5 + cos(\\pi) + .1]$, $\\Leftrightarrow [Y|X = 0.5] \\sim \\text{Uniform}[-0.6, -0.4]$\n",
    "$$\n",
    "f(0.5) = E[Y|X = 0.5] = \\frac{-0.6-0.4}{2} = -0.5\n",
    "$$\n",
    "\n",
    "(b)\n",
    "$$\n",
    "var(Y|X = 0.5) = \\frac{(-0.4+0.6)^2}{12} = \\frac{1}{300}\n",
    "$$\n",
    "\n",
    "(c)"
   ]
  },
  {
   "cell_type": "code",
   "execution_count": 1,
   "metadata": {},
   "outputs": [
    {
     "data": {
      "text/html": [
       "<div>\n",
       "<style scoped>\n",
       "    .dataframe tbody tr th:only-of-type {\n",
       "        vertical-align: middle;\n",
       "    }\n",
       "\n",
       "    .dataframe tbody tr th {\n",
       "        vertical-align: top;\n",
       "    }\n",
       "\n",
       "    .dataframe thead th {\n",
       "        text-align: right;\n",
       "    }\n",
       "</style>\n",
       "<table border=\"1\" class=\"dataframe\">\n",
       "  <thead>\n",
       "    <tr style=\"text-align: right;\">\n",
       "      <th></th>\n",
       "      <th>X</th>\n",
       "      <th>Y</th>\n",
       "    </tr>\n",
       "  </thead>\n",
       "  <tbody>\n",
       "    <tr>\n",
       "      <th>0</th>\n",
       "      <td>0.550798</td>\n",
       "      <td>-0.460283</td>\n",
       "    </tr>\n",
       "    <tr>\n",
       "      <th>1</th>\n",
       "      <td>0.708148</td>\n",
       "      <td>0.493337</td>\n",
       "    </tr>\n",
       "    <tr>\n",
       "      <th>2</th>\n",
       "      <td>0.290905</td>\n",
       "      <td>0.093700</td>\n",
       "    </tr>\n",
       "    <tr>\n",
       "      <th>3</th>\n",
       "      <td>0.510828</td>\n",
       "      <td>-0.392439</td>\n",
       "    </tr>\n",
       "    <tr>\n",
       "      <th>4</th>\n",
       "      <td>0.892947</td>\n",
       "      <td>1.745324</td>\n",
       "    </tr>\n",
       "  </tbody>\n",
       "</table>\n",
       "</div>"
      ],
      "text/plain": [
       "          X         Y\n",
       "0  0.550798 -0.460283\n",
       "1  0.708148  0.493337\n",
       "2  0.290905  0.093700\n",
       "3  0.510828 -0.392439\n",
       "4  0.892947  1.745324"
      ]
     },
     "execution_count": 1,
     "metadata": {},
     "output_type": "execute_result"
    }
   ],
   "source": [
    "import numpy as np\n",
    "import pandas as pd\n",
    "np.random.seed(3)\n",
    "num_samples = 100\n",
    "X = np.random.uniform(0, 1, num_samples)\n",
    "Y = np.zeros(num_samples)\n",
    "for i in range(num_samples):\n",
    "    Y[i] = np.random.uniform(X[i] + np.cos(2*np.pi*X[i]) - .1, X[i] + np.cos(2*np.pi*X[i]) + .1)\n",
    "df = pd.DataFrame({'X': X, 'Y': Y})\n",
    "df.head()"
   ]
  },
  {
   "cell_type": "code",
   "execution_count": 2,
   "metadata": {},
   "outputs": [
    {
     "data": {
      "image/png": "[encoded data removed]",
      "text/plain": [
       "<Figure size 640x480 with 1 Axes>"
      ]
     },
     "metadata": {},
     "output_type": "display_data"
    }
   ],
   "source": [
    "from sklearn.linear_model import LinearRegression\n",
    "import matplotlib.pyplot as plt\n",
    "reg = LinearRegression()\n",
    "reg.fit(X.reshape(-1, 1), Y.reshape(-1, 1))\n",
    "X_range = np.linspace(0, 1, 500).reshape(-1,1)\n",
    "Y_predicted_range = reg.predict(X_range)\n",
    "Y_true_range = X_range.flatten() + np.cos(2*np.pi*X_range.flatten())\n",
    "plt.scatter(df['X'], df['Y'], color='gray', label='Scatter Plot')\n",
    "plt.plot(X_range, Y_predicted_range, color='red', label='Estimated Regression Line')\n",
    "plt.plot(X_range, Y_true_range, color='blue', label='True Regression Line')\n",
    "plt.xlabel('X')\n",
    "plt.ylabel('Y')\n",
    "plt.title('Scatter Plot, Estimated Regression Line and True Regression Line')\n",
    "plt.legend()\n",
    "plt.show()"
   ]
  },
  {
   "cell_type": "code",
   "execution_count": 3,
   "metadata": {},
   "outputs": [
    {
     "data": {
      "text/plain": [
       "array([[0.35654477]])"
      ]
     },
     "execution_count": 3,
     "metadata": {},
     "output_type": "execute_result"
    }
   ],
   "source": [
    "t = np.array(0.5).reshape(1, 1)\n",
    "reg.predict(t)"
   ]
  },
  {
   "cell_type": "markdown",
   "metadata": {},
   "source": [
    "the value of $\\hat{f}(0.5; \\mathcal{D}) = 0.35654477$. \n",
    "\n",
    "(d)"
   ]
  },
  {
   "cell_type": "code",
   "execution_count": 4,
   "metadata": {},
   "outputs": [
    {
     "data": {
      "text/plain": [
       "(array([ 5.,  1.,  4.,  5.,  8.,  8., 12., 22., 25., 32., 45., 39., 54.,\n",
       "        38., 46., 30., 37., 22., 16., 23., 12.,  9.,  3.,  3.,  1.]),\n",
       " array([0.28126373, 0.29778694, 0.31431015, 0.33083336, 0.34735657,\n",
       "        0.36387978, 0.38040299, 0.3969262 , 0.41344941, 0.42997262,\n",
       "        0.44649583, 0.46301904, 0.47954225, 0.49606546, 0.51258867,\n",
       "        0.52911188, 0.54563509, 0.5621583 , 0.57868151, 0.59520472,\n",
       "        0.61172793, 0.62825114, 0.64477435, 0.66129756, 0.67782076,\n",
       "        0.69434397]),\n",
       " <BarContainer object of 25 artists>)"
      ]
     },
     "execution_count": 4,
     "metadata": {},
     "output_type": "execute_result"
    },
    {
     "data": {
      "image/png": "[encoded data removed]",
      "text/plain": [
       "<Figure size 640x480 with 1 Axes>"
      ]
     },
     "metadata": {},
     "output_type": "display_data"
    }
   ],
   "source": [
    "preds = []\n",
    "for i in range(500):\n",
    "    X = np.random.uniform(0, 1, num_samples)\n",
    "    Y = np.zeros(num_samples)\n",
    "    for i in range(num_samples):\n",
    "        Y[i] = np.random.uniform(X[i] + np.cos(2*np.pi*X[i]) - .1, X[i] + np.cos(2*np.pi*X[i]) + .1)\n",
    "    reg.fit(X.reshape(-1, 1), Y.reshape(-1, 1))\n",
    "    preds.append(reg.predict(t)[0,0])\n",
    "plt.hist(preds, bins = 25, edgecolor='black', alpha=0.7)"
   ]
  },
  {
   "cell_type": "markdown",
   "metadata": {},
   "source": [
    "(e)"
   ]
  },
  {
   "cell_type": "code",
   "execution_count": 5,
   "metadata": {},
   "outputs": [
    {
     "data": {
      "text/plain": [
       "0.4946333782077157"
      ]
     },
     "execution_count": 5,
     "metadata": {},
     "output_type": "execute_result"
    }
   ],
   "source": [
    "np.mean(preds)"
   ]
  },
  {
   "cell_type": "markdown",
   "metadata": {},
   "source": [
    "The mean value of $\\texttt{preds} = 0.4946$ is very close to $f(0.5; \\mathcal{D}) = 0.5$, which suggests that the ordinary least squares estimator $\\hat{f}(0.5; \\mathcal{D})$ is likely to be an unbiased estimator. \n",
    "\n",
    "(f) "
   ]
  },
  {
   "cell_type": "code",
   "execution_count": 6,
   "metadata": {},
   "outputs": [
    {
     "data": {
      "text/plain": [
       "0.005444152719909934"
      ]
     },
     "execution_count": 6,
     "metadata": {},
     "output_type": "execute_result"
    }
   ],
   "source": [
    "np.var(preds)"
   ]
  },
  {
   "cell_type": "markdown",
   "metadata": {},
   "source": [
    "The variance of $\\texttt{preds} = 0.0054$. This tells us that the variance of ordinary least square is not likely to decrease to 0 even if the sample size is large. \n",
    "\n",
    "(g) We apply Monte Carlo methods as well as (e) and (f), with test data $(X, Y)$ where $X = 0.5$ and $Y \\sim Uniform(-0.6, 0.4)$"
   ]
  },
  {
   "cell_type": "code",
   "execution_count": 7,
   "metadata": {},
   "outputs": [
    {
     "data": {
      "text/plain": [
       "1.015130426087126"
      ]
     },
     "execution_count": 7,
     "metadata": {},
     "output_type": "execute_result"
    }
   ],
   "source": [
    "errors = 0\n",
    "for i in range(500):\n",
    "    X = np.random.uniform(0, 1, num_samples)\n",
    "    Y = np.zeros(num_samples)\n",
    "    for i in range(num_samples):\n",
    "        Y[i] = np.random.uniform(X[i] + np.cos(2*np.pi*X[i]) - .1, X[i] + np.cos(2*np.pi*X[i]) + .1)\n",
    "    Y_new = np.random.uniform(-0.6, -0.4)\n",
    "    reg.fit(X.reshape(-1, 1), Y.reshape(-1, 1))\n",
    "    errors = errors + (reg.predict(t)[0,0] - Y_new)**2\n",
    "errors/500"
   ]
  },
  {
   "cell_type": "markdown",
   "metadata": {},
   "source": [
    "Our estimation is $1.0151$. We can carefully infer that the expected value of the squared error of our prediction is $1$. \n",
    "\n",
    "### Problem 4\n",
    "10-12 hours. "
   ]
  }
 ],
 "metadata": {
  "kernelspec": {
   "display_name": "Python 3",
   "language": "python",
   "name": "python3"
  },
  "language_info": {
   "codemirror_mode": {
    "name": "ipython",
    "version": 3
   },
   "file_extension": ".py",
   "mimetype": "text/x-python",
   "name": "python",
   "nbconvert_exporter": "python",
   "pygments_lexer": "ipython3",
   "version": "3.11.5"
  },
  "orig_nbformat": 4
 },
 "nbformat": 4,
 "nbformat_minor": 2
}
