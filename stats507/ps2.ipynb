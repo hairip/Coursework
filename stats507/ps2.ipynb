{
 "cells": [
  {
   "cell_type": "code",
   "execution_count": 1,
   "metadata": {
    "deletable": false,
    "editable": false,
    "tags": []
   },
   "outputs": [],
   "source": [
    "# Initialize Otter\n",
    "import otter\n",
    "grader = otter.Notebook(\"ps2.ipynb\")"
   ]
  },
  {
   "cell_type": "markdown",
   "metadata": {},
   "source": [
    "# STATS 507\n",
    "## Problem Set 2\n",
    "We'll be using the `math` module a few times:"
   ]
  },
  {
   "cell_type": "code",
   "execution_count": 2,
   "metadata": {
    "tags": []
   },
   "outputs": [],
   "source": [
    "import math\n",
    "import wrap_test"
   ]
  },
  {
   "cell_type": "markdown",
   "metadata": {},
   "source": [
    "All functions will be tested by visible as well as hidden tests. The maximum amount of time any function is allowed to run is 10 seconds."
   ]
  },
  {
   "cell_type": "markdown",
   "metadata": {},
   "source": [
    "### Question 1: Euclid's algorithm \n",
    "Euclid's algorithm (<https://en.wikipedia.org/wiki/Euclidean_algorithm>)\n",
    "is a method for finding the greatest common divisor (GCD) of two\n",
    "numbers. Recall that the GCD of two numbers $m$ and $n$ is the largest\n",
    "number that divides both $m$ and $n$."
   ]
  },
  {
   "cell_type": "markdown",
   "metadata": {
    "deletable": false,
    "editable": false
   },
   "source": [
    "**1(a)** (4 pts.) The Wikipedia page above includes several pseudocode implementations\n",
    "    of Euclid's algorithm. Choose one of these, and use it to implement\n",
    "    a function `gcd(m,n)`, which takes two integers as its arguments and\n",
    "    returns their GCD. You may assume that both inputs are integers, so\n",
    "    there is no need to include any error checking in your function. \n",
    "    \n",
    "   **Note**: There are many existing library functions, such as `math.gcd()`, available for calculating this. Do not use them: your job is to implement this function by hand."
   ]
  },
  {
   "cell_type": "code",
   "execution_count": 3,
   "metadata": {
    "tags": []
   },
   "outputs": [],
   "source": [
    "def gcd(m, n):\n",
    "    if n == 0:\n",
    "        return m\n",
    "    else:\n",
    "        return gcd(n, m % n)"
   ]
  },
  {
   "cell_type": "code",
   "execution_count": 4,
   "metadata": {
    "deletable": false,
    "editable": false,
    "tags": []
   },
   "outputs": [
    {
     "data": {
      "text/html": [
       "<p><strong><pre style='display: inline;'>q1a</pre></strong> passed! 🎉</p>"
      ],
      "text/plain": [
       "q1a results: All test cases passed!"
      ]
     },
     "execution_count": 4,
     "metadata": {},
     "output_type": "execute_result"
    }
   ],
   "source": [
    "grader.check(\"q1a\")"
   ]
  },
  {
   "cell_type": "markdown",
   "metadata": {
    "deletable": false,
    "editable": false
   },
   "source": [
    "<!-- BEGIN QUESTION -->\n",
    "\n",
    "**1(b)** (1 pt.) What does your function do if one or both of its arguments are negative? Does this behavior make sense?"
   ]
  },
  {
   "cell_type": "markdown",
   "metadata": {},
   "source": [
    "No matter arguments are negative or not, mod function m % n will return a positive argument, so the second call of gcd function's second argument must be positive, and the following call of gcd function always have two positive arguments. \n",
    "This behavior makes sense because the proof of the Euclidean algorithm(Wikipedia-Description-Proof of validity) still holds for the case when a,b are negative. "
   ]
  },
  {
   "cell_type": "markdown",
   "metadata": {
    "deletable": false,
    "editable": false
   },
   "source": [
    "<!-- END QUESTION -->\n",
    "\n",
    "### Question 2: Approximating $e$\n",
    "The base of the natural logarithm, $e$, is typically defined as the\n",
    "infinite sum \n",
    "$$\n",
    "e = \\sum_{k=0}^\\infty \\frac{1}{k!}\n",
    "= 1 + 1 + \\frac{1}{2} + \\frac{1}{6} + \\frac{1}{24} + \\dots,$$ where $k!$ denotes the factorial of $k$,\n",
    "$$k! = k \\cdot (k-1) \\cdot (k-2) \\cdot \\dots \\cdot 3 \\cdot 2 \\cdot 1,$$ where we define $0!=1$ by convention. For more on Euler's number, see\n",
    "<https://en.wikipedia.org/wiki/E_(mathematical_constant)>. In this\n",
    "problem, we will explore different approaches to approximating this\n",
    "number.\n"
   ]
  },
  {
   "cell_type": "markdown",
   "metadata": {
    "deletable": false,
    "editable": false,
    "jp-MarkdownHeadingCollapsed": true,
    "tags": []
   },
   "source": [
    "**2(a)** (2 pts.) An early characterization of Euler's number, due to Jacob Bernoulli,\n",
    "    was as the limit\n",
    "    $$e = \\lim_{x\\to\\infty} \\left(1 + \\frac{1}{x}\\right)^x.$$ Define a function called `e_limit(n)` that takes as an argument an integer $n$, and returns a `float` that approximates $e$ by taking $x=n$ in the above equation. You may assume that the input to your function will be a positive integer (of course, your function will still run just fine if $n$ is, say, a positive float, but we will only use integer values in what follows)."
   ]
  },
  {
   "cell_type": "code",
   "execution_count": 5,
   "metadata": {
    "tags": []
   },
   "outputs": [],
   "source": [
    "def e_limit(n):\n",
    "    return (1 + 1 / n)**n"
   ]
  },
  {
   "cell_type": "code",
   "execution_count": 6,
   "metadata": {
    "deletable": false,
    "editable": false
   },
   "outputs": [
    {
     "data": {
      "text/html": [
       "<p><strong><pre style='display: inline;'>q2a</pre></strong> passed! 🙌</p>"
      ],
      "text/plain": [
       "q2a results: All test cases passed!"
      ]
     },
     "execution_count": 6,
     "metadata": {},
     "output_type": "execute_result"
    }
   ],
   "source": [
    "grader.check(\"q2a\")"
   ]
  },
  {
   "cell_type": "markdown",
   "metadata": {
    "deletable": false,
    "editable": false,
    "jp-MarkdownHeadingCollapsed": true,
    "tags": []
   },
   "source": [
    "<!-- BEGIN QUESTION -->\n",
    "\n",
    "**2(b)** (1 pt.) What happens when you call `e_limit(n)` for really huge values of `n` (say,\n",
    "    $10^{16}$ or $10^{18}$)? Why does this happen? **Hint:** the answer\n",
    "    has to do with floating point arithmetic. Think about how $1/n$ is\n",
    "    represented on your computer when $n$ is big."
   ]
  },
  {
   "cell_type": "markdown",
   "metadata": {},
   "source": [
    "_Type your answer here, replacing this text._"
   ]
  },
  {
   "cell_type": "markdown",
   "metadata": {
    "deletable": false,
    "editable": false,
    "jp-MarkdownHeadingCollapsed": true,
    "tags": []
   },
   "source": [
    "<!-- END QUESTION -->\n",
    "\n",
    "**2(c)** (2 pts.) Define a function called `e_series` that takes a single non-negative integer\n",
    "    argument `n`, and returns an approximation to $e$ based on the first\n",
    "    `n` terms of the infinite sum shown above. Your function should return a float. You may again assume that the input will be a non-negative integer, so you do not need to include error checking in your function. As an example, `e_series(4)` should return the sum of the first four terms the series, i.e. $1 + 1 + 1/2 + 1/6 \\approx 2.667$. \n",
    "\n",
    "Notes:\n",
    "\n",
    "- The sum the equation starts counting with $k=0$ (i.e., it is \"$0$-indexed\"), while our function starts counting with $n=1$ (i.e., it is \"$1$-indexed\"). `e_series(1)` should use *one* term, so that `e_series(1) == 1`. Similarly, `e_series(0)` should return $0$, since by convention an empty sum is equal to zero.\n",
    "- You may use the function `math.factorial(k)` to compute $k!$, but I\n",
    "    recommend, for the sake of practice, implementing the factorial\n",
    "    function yourself, as it is a nice example of a problem that is\n",
    "    easily solved with recursion."
   ]
  },
  {
   "cell_type": "code",
   "execution_count": 7,
   "metadata": {
    "tags": []
   },
   "outputs": [],
   "source": [
    "def e_series(n):\n",
    "    ans = 0.0\n",
    "    fac = 1\n",
    "    if n == 0:\n",
    "        return ans\n",
    "    for k in range(1, n+1):\n",
    "        fac = fac * k\n",
    "        ans = ans + 1 / fac\n",
    "    return ans"
   ]
  },
  {
   "cell_type": "code",
   "execution_count": 8,
   "metadata": {
    "deletable": false,
    "editable": false
   },
   "outputs": [
    {
     "data": {
      "text/html": [
       "<p><strong><pre style='display: inline;'>q2c</pre></strong> passed! 🎉</p>"
      ],
      "text/plain": [
       "q2c results: All test cases passed!"
      ]
     },
     "execution_count": 8,
     "metadata": {},
     "output_type": "execute_result"
    }
   ],
   "source": [
    "grader.check(\"q2c\")"
   ]
  },
  {
   "cell_type": "markdown",
   "metadata": {
    "deletable": false,
    "editable": false,
    "jp-MarkdownHeadingCollapsed": true,
    "tags": []
   },
   "source": [
    "**2(d)** (2 pts.) Define a function called `error_table(N)` takes a single positive\n",
    "    integer `N` as an argument and returns a data structure containing the _relative_ error between the\n",
    "    approximations given by, respectively, `e_limit` and `e_series`. `error_table(N)` should return a\n",
    "    list of length $N$. The $k$-th entry of the list, `error_table(N)[k]`, should be a `dict` with two keys, `err_limit` and `err_series`, giving the relative errors for each approach when $n=k+1$:\n",
    "```\n",
    ">>> error_table(1)\n",
    "[{'err_limit': 0.26424111765711533, 'err_series': 0.6321205588285577}]\n",
    "```\n",
    "(The first entry of the list is shown.)\n",
    "**Note**: the true value of $e$, accurate to machine precision, can be obtained as `math.e`."
   ]
  },
  {
   "cell_type": "code",
   "execution_count": 9,
   "metadata": {
    "tags": []
   },
   "outputs": [],
   "source": [
    "def error_table(N):\n",
    "    ans = []\n",
    "    true_e = math.e\n",
    "    for k in range(1, N+1):\n",
    "        ans.append({'err_limit': abs(1 - e_limit(k) / true_e), 'err_series': abs(1 - e_series(k) / true_e)})\n",
    "    return ans"
   ]
  },
  {
   "cell_type": "code",
   "execution_count": 10,
   "metadata": {
    "deletable": false,
    "editable": false
   },
   "outputs": [
    {
     "data": {
      "text/html": [
       "<p><strong><pre style='display: inline;'>q2d</pre></strong> passed! 🚀</p>"
      ],
      "text/plain": [
       "q2d results: All test cases passed!"
      ]
     },
     "execution_count": 10,
     "metadata": {},
     "output_type": "execute_result"
    }
   ],
   "source": [
    "grader.check(\"q2d\")"
   ]
  },
  {
   "cell_type": "markdown",
   "metadata": {
    "deletable": false,
    "editable": false,
    "tags": []
   },
   "source": [
    "<!-- BEGIN QUESTION -->\n",
    "\n",
    "**2(e)** (2 pt.) \n",
    "\n",
    "**Activation Functions**\n",
    "\n",
    "Later in this course, you will be applying many [activation functions](https://en.wikipedia.org/wiki/Activation_function) to the different layers of your neural network (NN). While the meaning of NN you will learn later, activation functions themselves are simple concepts. In this exercise you will implement LeakyReLU & Tanh activation functions.\n",
    "\n",
    "**Leaky RELU (rectified linear unit)**\n",
    "\n",
    "Leaky RELU function is given by:\n",
    "\n",
    "$$f(x) = {\\displaystyle {\\begin{cases} 0.01x {\\text    {  if }}x\\leq 0\\\\x {\\text{  if }}x>0\\end{cases}}} $$\n",
    "\n",
    "\n",
    "**Tanh**\n",
    "\n",
    "Tanh function a.k.a hyperbolic tangent is given by\n",
    "\n",
    "$${\\displaystyle \\tanh(x)\\doteq {\\frac {e^{x}-e^{-x}}{e^{x}+e^{-x}}}}$$\n",
    "\n",
    "Although you have derived the value of 'e' in the earlier exercise, you will be using the standard **math** module to compute the value of $e^x$. \n",
    "\n",
    "Please complete the leaky_relu and tanh functions below to return values appropriately:"
   ]
  },
  {
   "cell_type": "code",
   "execution_count": 11,
   "metadata": {
    "tags": []
   },
   "outputs": [],
   "source": [
    "def leaky_relu(x):\n",
    "    if x > 0:\n",
    "        return x\n",
    "    else:\n",
    "        return 0.01 * x"
   ]
  },
  {
   "cell_type": "code",
   "execution_count": 12,
   "metadata": {
    "tags": []
   },
   "outputs": [],
   "source": [
    "def tanh(x):\n",
    "    e = math.e\n",
    "    return (e ** x - e ** (-x))/(e ** x + e ** (-x))"
   ]
  },
  {
   "cell_type": "code",
   "execution_count": 13,
   "metadata": {
    "deletable": false,
    "editable": false
   },
   "outputs": [
    {
     "data": {
      "text/html": [
       "<p><strong><pre style='display: inline;'>q2e</pre></strong> passed! 🙌</p>"
      ],
      "text/plain": [
       "q2e results: All test cases passed!"
      ]
     },
     "execution_count": 13,
     "metadata": {},
     "output_type": "execute_result"
    }
   ],
   "source": [
    "grader.check(\"q2e\")"
   ]
  },
  {
   "cell_type": "markdown",
   "metadata": {
    "deletable": false,
    "editable": false
   },
   "source": [
    "<!-- END QUESTION -->\n",
    "\n",
    "### Question 3: Root finding and minimization\n",
    "Recall that a *root* $r$ of a function $f:\\mathbb{R}\\to\\mathbb{R}$ satisfies $f(r)=0$. The [bisection method](https://en.wikipedia.org/wiki/Bisection_method) is a generic algorithm for finding the root of a continuous, real-valued function. "
   ]
  },
  {
   "cell_type": "markdown",
   "metadata": {
    "deletable": false,
    "editable": false,
    "jp-MarkdownHeadingCollapsed": true,
    "tags": []
   },
   "source": [
    "**3(a)** (4 pts.) Write a function `find_root(f, a, b)` which uses the bisection method to locate a root of the function $f$ on the interval $[a,b]$. Here, $f$ is a Python function which accepts a single float, and returns a float (i.e., a real-valued function of one variable.) You may assume that $f$ is continuous and that $f(a)$ and $f(b)$ have different signs, that is, `sgn(f(a)) != sgn(f(b))` where `sgn(x)` is the sign function:"
   ]
  },
  {
   "cell_type": "code",
   "execution_count": 14,
   "metadata": {
    "deletable": false,
    "editable": false
   },
   "outputs": [],
   "source": [
    "def sgn(x):\n",
    "    if x < 0:\n",
    "        return -1\n",
    "    if x > 0:\n",
    "        return 1\n",
    "    return 0"
   ]
  },
  {
   "cell_type": "markdown",
   "metadata": {
    "deletable": false,
    "editable": false
   },
   "source": [
    "(**Note**: due to finite precision issues mentioned above, your algorithm may not find an exact root of $f$, i.e. a number such that `f(r) == 0.0`. We will say that $r$ is a root if $|f(r)|<10^{-16}$.)"
   ]
  },
  {
   "cell_type": "code",
   "execution_count": 15,
   "metadata": {
    "tags": []
   },
   "outputs": [],
   "source": [
    "def find_root(f, a, b):\n",
    "    if abs(f(a)) < 1e-16:\n",
    "        return a\n",
    "    if abs(f(b)) < 1e-16:\n",
    "        return b\n",
    "    if f(a) * f((a+b)/2) < 0:\n",
    "        return find_root(f, a, (a+b)/2)\n",
    "    else:\n",
    "        return find_root(f, (a+b)/2, b)"
   ]
  },
  {
   "cell_type": "code",
   "execution_count": 16,
   "metadata": {
    "deletable": false,
    "editable": false
   },
   "outputs": [
    {
     "data": {
      "text/html": [
       "<p><strong><pre style='display: inline;'>q3a</pre></strong> passed! 🍀</p>"
      ],
      "text/plain": [
       "q3a results: All test cases passed!"
      ]
     },
     "execution_count": 16,
     "metadata": {},
     "output_type": "execute_result"
    }
   ],
   "source": [
    "grader.check(\"q3a\")"
   ]
  },
  {
   "cell_type": "markdown",
   "metadata": {
    "deletable": false,
    "editable": false,
    "jp-MarkdownHeadingCollapsed": true,
    "tags": []
   },
   "source": [
    "<!-- BEGIN QUESTION -->\n",
    "\n",
    "**3(b)** (2 pts.) Suppose that $f:[a,b]\\to\\mathbb{R}$ is a strictly convex and continuously differentiable function. Let $x^*\\in [a,b]$ be such that $f(x^*) \\le f(x)$ for all $x\\in[a,b]$. Explain using calculus how to use the root finding algorithm you implemented above to find $x^*$."
   ]
  },
  {
   "cell_type": "markdown",
   "metadata": {},
   "source": [
    "In calculus, $f''(x) > 0$ since f is strictly convex. Then $f'(x)$ is strictly increasing. \n",
    "\n",
    "If $f'(a) > 0$, we know that $f$ is strictly increasing, so $x^* = a$. \n",
    "\n",
    "If $f'(b) <= 0$, we know that $f$ is strictly decreasing, so $x^* = b$. \n",
    "\n",
    "If $f'(a) <= 0$ and $f'(b) > 0$, we can find a root $r \\in (a,b)$ such that $f'(r) = 0$, and then $x^* = r$. "
   ]
  },
  {
   "cell_type": "markdown",
   "metadata": {
    "deletable": false,
    "editable": false,
    "jp-MarkdownHeadingCollapsed": true,
    "tags": []
   },
   "source": [
    "<!-- END QUESTION -->\n",
    "\n",
    "**3(c)** (4 pts.) Write a function `minimize(f_prime, a, b)` that minimizes a function $f$ satisfying the assumptions of the previous question. Here `f_prime` is a function that returns the derivative of $f$ evaluated at the point $x$."
   ]
  },
  {
   "cell_type": "code",
   "execution_count": 17,
   "metadata": {
    "tags": []
   },
   "outputs": [],
   "source": [
    "def minimize(f_prime, a, b):\n",
    "    \"\"\"\n",
    "    Minimizes the convex function f over the interval [a,b].\n",
    "    \n",
    "    Args:\n",
    "        f_prime: a function representing the (continuous) derivative of f.\n",
    "        a, b: interval on which f is defined.\n",
    "        \n",
    "    Returns:\n",
    "        The point x at which f is minimized.\n",
    "    \"\"\"\n",
    "    if f_prime(a) > 0:\n",
    "        return a\n",
    "    if f_prime(b) < 0:\n",
    "        return b\n",
    "    return find_root(f_prime, a, b)"
   ]
  },
  {
   "cell_type": "code",
   "execution_count": 18,
   "metadata": {
    "deletable": false,
    "editable": false
   },
   "outputs": [
    {
     "data": {
      "text/html": [
       "<p><strong><pre style='display: inline;'>q3c</pre></strong> passed! 🍀</p>"
      ],
      "text/plain": [
       "q3c results: All test cases passed!"
      ]
     },
     "execution_count": 18,
     "metadata": {},
     "output_type": "execute_result"
    }
   ],
   "source": [
    "grader.check(\"q3c\")"
   ]
  },
  {
   "cell_type": "markdown",
   "metadata": {
    "deletable": false,
    "editable": false
   },
   "source": [
    "## Submission\n",
    "\n",
    "Make sure you have run all cells in your notebook in order before running the cell below, so that all images/graphs appear in the output. The cell below will generate a zip file for you to submit. **Please save before exporting!**\n",
    "\n",
    "Upload this .zip file to Gradescope for grading."
   ]
  },
  {
   "cell_type": "code",
   "execution_count": 19,
   "metadata": {
    "deletable": false,
    "editable": false
   },
   "outputs": [
    {
     "data": {
      "text/html": [
       "\n",
       "                    <p>\n",
       "                        Your submission has been exported. Click\n",
       "                        <a href=\"ps2_2023_09_13T23_34_27_735988.zip\" downloadzip_path target=\"_blank\">here</a> to download\n",
       "                        the zip file.\n",
       "                    </p>\n",
       "                "
      ],
      "text/plain": [
       "<IPython.core.display.HTML object>"
      ]
     },
     "metadata": {},
     "output_type": "display_data"
    }
   ],
   "source": [
    "# Save your notebook first, then run this cell to export your submission.\n",
    "grader.export(pdf=False)"
   ]
  },
  {
   "cell_type": "markdown",
   "metadata": {},
   "source": [
    " "
   ]
  }
 ],
 "metadata": {
  "kernelspec": {
   "display_name": "Python 3 (ipykernel)",
   "language": "python",
   "name": "python3"
  },
  "language_info": {
   "codemirror_mode": {
    "name": "ipython",
    "version": 3
   },
   "file_extension": ".py",
   "mimetype": "text/x-python",
   "name": "python",
   "nbconvert_exporter": "python",
   "pygments_lexer": "ipython3",
   "version": "3.11.3"
  },
  "otter": {
   "OK_FORMAT": true,
   "tests": {
    "q1a": {
     "name": "q1a",
     "points": 4,
     "suites": [
      {
       "cases": [
        {
         "code": ">>> gcd(0, 0) == 0\nTrue",
         "hidden": false,
         "locked": false
        },
        {
         "code": ">>> for m in range(1, 10):\n...     assert gcd(0, m) == m\n",
         "hidden": false,
         "locked": false
        },
        {
         "code": ">>> gcd(1, 1) == 1\nTrue",
         "hidden": false,
         "locked": false
        },
        {
         "code": ">>> for m in range(-10, 10):\n...     assert gcd(m, 1) == 1\n...     assert gcd(m, 2) == 2 - (m % 2)\n",
         "hidden": false,
         "locked": false
        }
       ],
       "scored": true,
       "setup": "",
       "teardown": "",
       "type": "doctest"
      }
     ]
    },
    "q2a": {
     "name": "q2a",
     "points": 2,
     "suites": [
      {
       "cases": [
        {
         "code": ">>> e_limit(1) == 2.\nTrue",
         "hidden": false,
         "locked": false
        },
        {
         "code": ">>> e_limit(2) == 2.25\nTrue",
         "hidden": false,
         "locked": false
        }
       ],
       "scored": true,
       "setup": "",
       "teardown": "",
       "type": "doctest"
      }
     ]
    },
    "q2c": {
     "name": "q2c",
     "points": 2,
     "suites": [
      {
       "cases": [
        {
         "code": ">>> e_series(0) == 0\nTrue",
         "hidden": false,
         "locked": false
        },
        {
         "code": ">>> e_series(1) == 1.\nTrue",
         "hidden": false,
         "locked": false
        }
       ],
       "scored": true,
       "setup": "",
       "teardown": "",
       "type": "doctest"
      }
     ]
    },
    "q2d": {
     "name": "q2d",
     "points": 2,
     "suites": [
      {
       "cases": [
        {
         "code": ">>> for k in range(1, 5, 10):\n...     assert len(error_table(k)) == k\n",
         "hidden": false,
         "locked": false
        },
        {
         "code": ">>> assert abs(error_table(1)[0]['err_limit'] - 0.26424111765711533) < 1e-6\n>>> assert abs(error_table(1)[0]['err_series'] - 0.6321205588285577) < 1e-6\n",
         "hidden": false,
         "locked": false
        }
       ],
       "scored": true,
       "setup": "",
       "teardown": "",
       "type": "doctest"
      }
     ]
    },
    "q2e": {
     "name": "q2e",
     "points": 2,
     "suites": [
      {
       "cases": [
        {
         "code": ">>> assert leaky_relu(1) == 1\n>>> assert leaky_relu(0) == 0\n>>> assert leaky_relu(-1) == -0.01\n>>> \n>>> assert tanh(1) == 0.7615941559557649\n>>> assert tanh(100) == 1\n>>> assert tanh(-100) == -1\n",
         "hidden": false,
         "locked": false
        }
       ],
       "scored": true,
       "setup": "",
       "teardown": "",
       "type": "doctest"
      }
     ]
    },
    "q3a": {
     "name": "q3a",
     "points": 4,
     "suites": [
      {
       "cases": [
        {
         "code": ">>> import wrap_test\n>>> def test4a1():\n...     f = lambda x: x ** 3\n...     r = find_root(f, -4, 3)\n...     assert abs(f(r)) < 1e-16\n>>> wrap_test.wrap_test(test4a1)\n",
         "hidden": false,
         "locked": false
        },
        {
         "code": ">>> import wrap_test\n>>> def test4a2():\n...     r = find_root(math.cos, 0, 3.14)\n...     assert abs(math.cos(r)) < 1e-16\n>>> wrap_test.wrap_test(test4a2)\n",
         "hidden": false,
         "locked": false
        }
       ],
       "scored": true,
       "setup": "",
       "teardown": "",
       "type": "doctest"
      }
     ]
    },
    "q3c": {
     "name": "q3c",
     "points": 4,
     "suites": [
      {
       "cases": [
        {
         "code": ">>> import wrap_test\n>>> def test4c1():\n...     f_prime = lambda x: 2 * x  # derivative of f(x) = x^2\n...     assert abs(minimize(f_prime, -10, 10) - 0) < 1e-8\n>>> wrap_test.wrap_test(test4c1)\n",
         "hidden": false,
         "locked": false
        },
        {
         "code": ">>> import wrap_test\n>>> def test4c2():\n...     f_prime = lambda x: -math.cos(x)  # derivative of f(x) = -sin(x)\n...     assert abs(minimize(f_prime, 0, 3.14) - math.pi/2) < 1e-8\n>>> wrap_test.wrap_test(test4c2)\n",
         "hidden": false,
         "locked": false
        }
       ],
       "scored": true,
       "setup": "",
       "teardown": "",
       "type": "doctest"
      }
     ]
    }
   }
  },
  "varInspector": {
   "cols": {
    "lenName": 16,
    "lenType": 16,
    "lenVar": 40
   },
   "kernels_config": {
    "python": {
     "delete_cmd_postfix": "",
     "delete_cmd_prefix": "del ",
     "library": "var_list.py",
     "varRefreshCmd": "print(var_dic_list())"
    },
    "r": {
     "delete_cmd_postfix": ") ",
     "delete_cmd_prefix": "rm(",
     "library": "var_list.r",
     "varRefreshCmd": "cat(var_dic_list()) "
    }
   },
   "types_to_exclude": [
    "module",
    "function",
    "builtin_function_or_method",
    "instance",
    "_Feature"
   ],
   "window_display": false
  }
 },
 "nbformat": 4,
 "nbformat_minor": 4
}
