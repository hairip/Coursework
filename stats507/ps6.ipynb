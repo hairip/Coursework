{
 "cells": [
  {
   "cell_type": "code",
   "execution_count": 1,
   "id": "8b8e4a34",
   "metadata": {
    "deletable": false,
    "editable": false,
    "tags": []
   },
   "outputs": [],
   "source": [
    "# Initialize Otter\n",
    "import otter\n",
    "grader = otter.Notebook(\"ps6.ipynb\")"
   ]
  },
  {
   "cell_type": "code",
   "execution_count": 2,
   "id": "2b324868",
   "metadata": {
    "tags": []
   },
   "outputs": [],
   "source": [
    "import sqlite3"
   ]
  },
  {
   "cell_type": "markdown",
   "id": "b9c847e6",
   "metadata": {},
   "source": [
    "## Question 1: Basic SQL\n",
    "In this problem, you'll interact with a toy SQL database using Python's\n",
    "built-in `sqlite3` package. Documentation can be found at\n",
    "<https://docs.python.org/3/library/sqlite3.html>. For this problem,\n",
    "we'll use a popular toy SQLite database, called Chinook, which\n",
    "represents a digital music collection. See the documentation at <https://github.com/lerocha/chinook-database/blob/master/README.md>\n",
    "for a more detailed explanation. We'll use the `chinook.sqlite` file:"
   ]
  },
  {
   "cell_type": "code",
   "execution_count": 3,
   "id": "6ac3f2d0",
   "metadata": {
    "tags": []
   },
   "outputs": [],
   "source": [
    "con = sqlite3.connect('chinook.sqlite')\n",
    "cur = con.cursor()"
   ]
  },
  {
   "cell_type": "markdown",
   "id": "fafb339f",
   "metadata": {
    "deletable": false,
    "editable": false
   },
   "source": [
    "**1(a)** (1 pt) Load the database using the Python `sqlite3` package. How many tables are in the database? Save the answer in the variable `n_tables`."
   ]
  },
  {
   "cell_type": "code",
   "execution_count": 4,
   "id": "9f52ab81",
   "metadata": {
    "tags": []
   },
   "outputs": [],
   "source": [
    "cur.execute(\"\"\"SELECT name FROM sqlite_master WHERE type='table';\"\"\")\n",
    "n_tables = len(cur.fetchall())"
   ]
  },
  {
   "cell_type": "code",
   "execution_count": 5,
   "id": "11541c1e",
   "metadata": {
    "deletable": false,
    "editable": false
   },
   "outputs": [
    {
     "data": {
      "text/html": [
       "<p><strong><pre style='display: inline;'>q1a</pre></strong> passed! 🚀</p>"
      ],
      "text/plain": [
       "q1a results: All test cases passed!"
      ]
     },
     "execution_count": 5,
     "metadata": {},
     "output_type": "execute_result"
    }
   ],
   "source": [
    "grader.check(\"q1a\")"
   ]
  },
  {
   "cell_type": "markdown",
   "id": "8a350119",
   "metadata": {
    "deletable": false,
    "editable": false
   },
   "source": [
    "**1(b)** (2 pts) What are the names of the tables in the database? Save the answer as\n",
    "    a set of strings, `table_names`. **Note:** you should write Python `sqlite3`\n",
    "    code to answer this; don't just look up the answer in the\n",
    "    documentation!\n"
   ]
  },
  {
   "cell_type": "code",
   "execution_count": 6,
   "id": "41f70cb8",
   "metadata": {
    "tags": []
   },
   "outputs": [],
   "source": [
    "cur.execute(\"\"\"SELECT name FROM sqlite_master WHERE type='table';\"\"\")\n",
    "table_names = set()\n",
    "for table in cur.fetchall():\n",
    "    table_names.add(table[0])"
   ]
  },
  {
   "cell_type": "code",
   "execution_count": 8,
   "id": "a4a0e587",
   "metadata": {
    "deletable": false,
    "editable": false
   },
   "outputs": [
    {
     "data": {
      "text/html": [
       "<p><strong><pre style='display: inline;'>q1b</pre></strong> passed! ✨</p>"
      ],
      "text/plain": [
       "q1b results: All test cases passed!"
      ]
     },
     "execution_count": 8,
     "metadata": {},
     "output_type": "execute_result"
    }
   ],
   "source": [
    "grader.check(\"q1b\")"
   ]
  },
  {
   "cell_type": "markdown",
   "id": "d5162d75",
   "metadata": {
    "deletable": false,
    "editable": false
   },
   "source": [
    "**1(c)** (2 pts) Write a function `albums_starting_with(c)` that takes as an argument a single character `c` and\n",
    "    returns a list of the primary keys (AlbumIds) of all the albums whose titles\n",
    "    start with that character. Your function should ignore case, so that\n",
    "    the inputs \"a\" and \"A\" yield the same results. Include error\n",
    "    checking that raises an error in the event that the input is not a\n",
    "    single character.\n"
   ]
  },
  {
   "cell_type": "code",
   "execution_count": 9,
   "id": "62af3400",
   "metadata": {
    "tags": []
   },
   "outputs": [],
   "source": [
    "def albums_starting_with(c):\n",
    "    if not isinstance(c, str):\n",
    "        raise TypeError(\"input is not string\")\n",
    "    if len(c) != 1:\n",
    "        raise ValueError(\"input is not a single character\")\n",
    "    cur.execute('''SELECT AlbumId FROM Album WHERE UPPER(Title) LIKE UPPER(\"''' + c + '''%\")''')\n",
    "    return [i[0] for i in cur.fetchall()]"
   ]
  },
  {
   "cell_type": "code",
   "execution_count": 10,
   "id": "dfde6bb1",
   "metadata": {
    "deletable": false,
    "editable": false
   },
   "outputs": [
    {
     "data": {
      "text/html": [
       "<p><strong><pre style='display: inline;'>q1c</pre></strong> passed! 💯</p>"
      ],
      "text/plain": [
       "q1c results: All test cases passed!"
      ]
     },
     "execution_count": 10,
     "metadata": {},
     "output_type": "execute_result"
    }
   ],
   "source": [
    "grader.check(\"q1c\")"
   ]
  },
  {
   "cell_type": "markdown",
   "id": "d2d7f1c0",
   "metadata": {
    "deletable": false,
    "editable": false
   },
   "source": [
    "**1(d)** (2 pts) Write a function `songs_starting_with(c)` that takes as an argument a single character and\n",
    "    returns a list of the primary keys (TrackIds) of all the **songs** whose album\n",
    "    names begin with that letter. Again, your function should ignore\n",
    "    case and perform error checking as in the previous exercise (again ignoring case).\n",
    "    **Hint:** you'll need a JOIN statement here. Don't forget that you\n",
    "    can use the `cursor.description` attribute to find out about tables\n",
    "    and the names of their columns.\n"
   ]
  },
  {
   "cell_type": "code",
   "execution_count": 11,
   "id": "95d5d262",
   "metadata": {
    "tags": []
   },
   "outputs": [],
   "source": [
    "def songs_starting_with(c):\n",
    "    if not isinstance(c, str):\n",
    "        raise TypeError(\"input is not string\")\n",
    "    if len(c) != 1:\n",
    "        raise ValueError(\"input is not a single character\")\n",
    "    cur.execute('''SELECT TrackId FROM Album JOIN Track ON Album.AlbumId = Track.AlbumId WHERE UPPER(Title) LIKE UPPER(\"''' + c + '''%\")''')\n",
    "    return [i[0] for i in cur.fetchall()]"
   ]
  },
  {
   "cell_type": "code",
   "execution_count": 12,
   "id": "3d169bce",
   "metadata": {
    "deletable": false,
    "editable": false
   },
   "outputs": [
    {
     "data": {
      "text/html": [
       "<p><strong><pre style='display: inline;'>q1d</pre></strong> passed! 🎉</p>"
      ],
      "text/plain": [
       "q1d results: All test cases passed!"
      ]
     },
     "execution_count": 12,
     "metadata": {},
     "output_type": "execute_result"
    }
   ],
   "source": [
    "grader.check(\"q1d\")"
   ]
  },
  {
   "cell_type": "markdown",
   "id": "0cefe6ff",
   "metadata": {
    "deletable": false,
    "editable": false
   },
   "source": [
    "**1(e)** (2 pts) Write a function `cost_of(c)` that takes as an argument a single character and\n",
    "    returns the cost of buying every song whose album begins with that\n",
    "    letter. This cost should be based on the tracks' unit prices, so\n",
    "    that the cost of buying a set of tracks is simply the sum of the\n",
    "    unit prices of all the tracks in the set. Again your function should\n",
    "    ignore case and perform appropriate error checking. \n"
   ]
  },
  {
   "cell_type": "code",
   "execution_count": 13,
   "id": "a8bfcc53",
   "metadata": {
    "tags": []
   },
   "outputs": [],
   "source": [
    "def cost_of(c):\n",
    "    if not isinstance(c, str):\n",
    "        raise TypeError(\"input is not string\")\n",
    "    if len(c) != 1:\n",
    "        raise ValueError(\"input is not a single character\")\n",
    "    cur.execute('''SELECT Inv.UnitPrice FROM (SELECT DISTINCT TrackId, UnitPrice FROM InvoiceLine) AS Inv\n",
    "                LEFT JOIN Track ON Track.TrackId = Inv.TrackId\n",
    "                LEFT JOIN Album ON Track.AlbumId = Album.AlbumId \n",
    "                WHERE UPPER(Title) LIKE UPPER(\"''' + c + '''%\")''')\n",
    "    res = cur.fetchall()\n",
    "    return sum([i[0] for i in res])"
   ]
  },
  {
   "cell_type": "code",
   "execution_count": 14,
   "id": "c7823290",
   "metadata": {
    "deletable": false,
    "editable": false
   },
   "outputs": [
    {
     "data": {
      "text/html": [
       "<p><strong><pre style='display: inline;'>q1e</pre></strong> passed! 🌟</p>"
      ],
      "text/plain": [
       "q1e results: All test cases passed!"
      ]
     },
     "execution_count": 14,
     "metadata": {},
     "output_type": "execute_result"
    }
   ],
   "source": [
    "grader.check(\"q1e\")"
   ]
  },
  {
   "cell_type": "markdown",
   "id": "304e7937",
   "metadata": {},
   "source": [
    "## Question 2: Additional SQL\n",
    "In this case, we will use the included file `flights.sqlite`"
   ]
  },
  {
   "cell_type": "code",
   "execution_count": 15,
   "id": "1838eead",
   "metadata": {},
   "outputs": [],
   "source": [
    "con = sqlite3.connect('flights.sqlite')\n",
    "cur = con.cursor()"
   ]
  },
  {
   "cell_type": "markdown",
   "id": "b470b66c",
   "metadata": {},
   "source": [
    "Each question asks you to write a SQL query that performs a certain operation. For example, if the question asks, \"how many flights are there\", an answer could be \n",
    "\n",
    "> `SELECT COUNT(*) FROM flights`\n",
    "\n",
    "Some questions refer to a parameter $x$. For these, you should write a query containing a placeholder, which we can run for different values of $x$. For example, if the question asks, \"how many flights are there in month $x$?\", where $x\\in\\{1,2,\\dots,12\\}$ is a numerical month, an answer could be \n",
    "\n",
    "> `SELECT COUNT(*) FROM flights WHERE month=?`.\n",
    "\n",
    "For answers that ask for a single datum, we will run \n",
    "```\n",
    "> cur.execute(your_query)\n",
    "> result = cur.fetchone()\n",
    "```\n",
    "For answers that ask for a table or set of rows, we will use `cur.fetchall(...)` instead of `cur.fetchone(...)`. For answers that accept a parameter, we will use e.g. `cur.fetchone(..., [x])`."
   ]
  },
  {
   "cell_type": "markdown",
   "id": "c563c871",
   "metadata": {
    "deletable": false,
    "editable": false
   },
   "source": [
    "**2(a)** (2 pts) What was the number of scheduled departures on day of the week $x$, where $x$ is the numerical day of the week (Sunday=0, Monday=1, etc.) Your query should return a tuple `(n, x)` where `n` is the number of flights, and `x` is the day of week. \n",
    "Hint: Use the time_hour column to get the week"
   ]
  },
  {
   "cell_type": "code",
   "execution_count": 16,
   "id": "849972a7",
   "metadata": {
    "tags": []
   },
   "outputs": [],
   "source": [
    "avg_sched_dep = '''SELECT COUNT(*) as n, CAST(strftime('%w', time_hour, 'unixepoch') as integer) as week FROM flights GROUP BY week HAVING week=?'''"
   ]
  },
  {
   "cell_type": "code",
   "execution_count": 17,
   "id": "3882a1aa",
   "metadata": {
    "deletable": false,
    "editable": false
   },
   "outputs": [
    {
     "data": {
      "text/html": [
       "<p><strong><pre style='display: inline;'>q2a</pre></strong> passed! 🌈</p>"
      ],
      "text/plain": [
       "q2a results: All test cases passed!"
      ]
     },
     "execution_count": 17,
     "metadata": {},
     "output_type": "execute_result"
    }
   ],
   "source": [
    "grader.check(\"q2a\")"
   ]
  },
  {
   "cell_type": "markdown",
   "id": "87d89329",
   "metadata": {
    "deletable": false,
    "editable": false
   },
   "source": [
    "**2(b)** (2 pts) Which month had the most scheduled departures? Your query should return tuple containing a single numerical month (for example `(2,)` if the answer is February.)"
   ]
  },
  {
   "cell_type": "code",
   "execution_count": 18,
   "id": "cb556940",
   "metadata": {
    "tags": []
   },
   "outputs": [],
   "source": [
    "most_deps = '''SELECT m FROM (SELECT COUNT(*) as n, CAST(strftime('%m', time_hour, 'unixepoch') AS integer) AS m FROM flights GROUP BY m ORDER BY n DESC)'''"
   ]
  },
  {
   "cell_type": "code",
   "execution_count": 19,
   "id": "a1ff3b81",
   "metadata": {
    "deletable": false,
    "editable": false
   },
   "outputs": [
    {
     "data": {
      "text/html": [
       "<p><strong><pre style='display: inline;'>q2b</pre></strong> passed! 🍀</p>"
      ],
      "text/plain": [
       "q2b results: All test cases passed!"
      ]
     },
     "execution_count": 19,
     "metadata": {},
     "output_type": "execute_result"
    }
   ],
   "source": [
    "grader.check(\"q2b\")"
   ]
  },
  {
   "cell_type": "markdown",
   "id": "3685f7b8",
   "metadata": {
    "deletable": false,
    "editable": false
   },
   "source": [
    "**2(c)** (3 pts) On how many days was the highest recorded temperature below $x$ degrees?"
   ]
  },
  {
   "cell_type": "code",
   "execution_count": 20,
   "id": "494ae03e",
   "metadata": {
    "tags": []
   },
   "outputs": [],
   "source": [
    "high_above = '''SELECT COUNT(*) FROM (SELECT year || '-' || month || '-' || day AS date, MAX(temp) AS t FROM weather GROUP BY date) WHERE t<?'''"
   ]
  },
  {
   "cell_type": "code",
   "execution_count": 21,
   "id": "c0f3b3fa",
   "metadata": {
    "deletable": false,
    "editable": false
   },
   "outputs": [
    {
     "data": {
      "text/html": [
       "<p><strong><pre style='display: inline;'>q2c</pre></strong> passed! 🎉</p>"
      ],
      "text/plain": [
       "q2c results: All test cases passed!"
      ]
     },
     "execution_count": 21,
     "metadata": {},
     "output_type": "execute_result"
    }
   ],
   "source": [
    "grader.check(\"q2c\")"
   ]
  },
  {
   "cell_type": "markdown",
   "id": "a3d997ec",
   "metadata": {
    "deletable": false,
    "editable": false
   },
   "source": [
    "**2(d)** (3 pts) In this dataset, a cancelled flight is one for which `dep_delay` is missing. What percentage of the flights were cancelled overall?"
   ]
  },
  {
   "cell_type": "code",
   "execution_count": 27,
   "id": "3e196438",
   "metadata": {
    "tags": []
   },
   "outputs": [],
   "source": [
    "pct_cancelled = '''SELECT 1.0 - 1.0 * COUNT(dep_delay) / COUNT(1) FROM flights'''"
   ]
  },
  {
   "cell_type": "code",
   "execution_count": 28,
   "id": "e45dc169",
   "metadata": {
    "deletable": false,
    "editable": false
   },
   "outputs": [
    {
     "data": {
      "text/html": [
       "<p><strong><pre style='display: inline;'>q2d</pre></strong> passed! 🌈</p>"
      ],
      "text/plain": [
       "q2d results: All test cases passed!"
      ]
     },
     "execution_count": 28,
     "metadata": {},
     "output_type": "execute_result"
    }
   ],
   "source": [
    "grader.check(\"q2d\")"
   ]
  },
  {
   "cell_type": "markdown",
   "id": "e83c4c34",
   "metadata": {
    "deletable": false,
    "editable": false
   },
   "source": [
    "## Submission\n",
    "\n",
    "Make sure you have run all cells in your notebook in order before running the cell below, so that all images/graphs appear in the output. The cell below will generate a zip file for you to submit. **Please save before exporting!**\n",
    "\n",
    "Upload this .zip file to Gradescope for grading."
   ]
  },
  {
   "cell_type": "code",
   "execution_count": 26,
   "id": "5c0bf320",
   "metadata": {
    "deletable": false,
    "editable": false
   },
   "outputs": [
    {
     "data": {
      "text/html": [
       "\n",
       "                    <p>\n",
       "                        Your submission has been exported. Click\n",
       "                        <a href=\"ps6_2023_10_12T13_53_01_739602.zip\" downloadzip_path target=\"_blank\">here</a> to download\n",
       "                        the zip file.\n",
       "                    </p>\n",
       "                "
      ],
      "text/plain": [
       "<IPython.core.display.HTML object>"
      ]
     },
     "metadata": {},
     "output_type": "display_data"
    }
   ],
   "source": [
    "# Save your notebook first, then run this cell to export your submission.\n",
    "grader.export(pdf=False)"
   ]
  },
  {
   "cell_type": "markdown",
   "id": "f879c55f",
   "metadata": {},
   "source": [
    " "
   ]
  }
 ],
 "metadata": {
  "kernelspec": {
   "display_name": "Python 3 (ipykernel)",
   "language": "python",
   "name": "python3"
  },
  "language_info": {
   "codemirror_mode": {
    "name": "ipython",
    "version": 3
   },
   "file_extension": ".py",
   "mimetype": "text/x-python",
   "name": "python",
   "nbconvert_exporter": "python",
   "pygments_lexer": "ipython3",
   "version": "3.11.3"
  },
  "otter": {
   "OK_FORMAT": true,
   "tests": {
    "q1a": {
     "name": "q1a",
     "points": 1,
     "suites": [
      {
       "cases": [
        {
         "code": ">>> assert n_tables == 11\n",
         "hidden": false,
         "locked": false
        }
       ],
       "scored": true,
       "setup": "",
       "teardown": "",
       "type": "doctest"
      }
     ]
    },
    "q1b": {
     "name": "q1b",
     "points": 2,
     "suites": [
      {
       "cases": [
        {
         "code": ">>> expected = {'Album', 'Genre', 'Playlist', 'PlaylistTrack', 'Employee', 'Customer', 'InvoiceLine', 'Track', 'Artist', 'MediaType', 'Invoice'}\n>>> assert table_names == expected\n",
         "hidden": false,
         "locked": false
        }
       ],
       "scored": true,
       "setup": "",
       "teardown": "",
       "type": "doctest"
      }
     ]
    },
    "q1c": {
     "name": "q1c",
     "points": 2,
     "suites": [
      {
       "cases": [
        {
         "code": ">>> res = albums_starting_with('a')\n>>> assert type(res) == list\n>>> assert len(res) == 32\n>>> for i in [10, 14, 15, 24, 26, 29, 74, 167, 319]:\n...     assert i in res\n",
         "hidden": false,
         "locked": false
        },
        {
         "code": ">>> try:\n...     albums_starting_with(3)\n... except Exception:\n...     pass\n... else:\n...     raise Exception(\"should raise an exception\")\n",
         "hidden": false,
         "locked": false
        },
        {
         "code": ">>> try:\n...     albums_starting_with('res')\n... except Exception:\n...     pass\n... else:\n...     raise Exception(\"should raise an exception\")\n",
         "hidden": false,
         "locked": false
        }
       ],
       "scored": true,
       "setup": "",
       "teardown": "",
       "type": "doctest"
      }
     ]
    },
    "q1d": {
     "name": "q1d",
     "points": 2,
     "suites": [
      {
       "cases": [
        {
         "code": ">>> res = songs_starting_with('a')\n>>> assert type(res) == list\n>>> assert len(res) == 369\n>>> for i in [85, 86, 87, 331, 332, 333, 923, 924, 925]:\n...     assert i in res\n",
         "hidden": false,
         "locked": false
        },
        {
         "code": ">>> try:\n...     songs_starting_with(3)\n... except Exception:\n...     pass\n... else:\n...     raise Exception(\"should raise an exception\")\n",
         "hidden": false,
         "locked": false
        },
        {
         "code": ">>> try:\n...     songs_starting_with('res')\n... except Exception:\n...     pass\n... else:\n...     raise Exception(\"should raise an exception\")\n",
         "hidden": false,
         "locked": false
        }
       ],
       "scored": true,
       "setup": "",
       "teardown": "",
       "type": "doctest"
      }
     ]
    },
    "q1e": {
     "name": "q1e",
     "points": 2,
     "suites": [
      {
       "cases": [
        {
         "code": ">>> res = cost_of('a')\n>>> assert type(res) == float\n>>> assert abs(res - 216.82) < 1e-5\n",
         "hidden": false,
         "locked": false
        },
        {
         "code": ">>> try:\n...     cost_of(3)\n... except Exception:\n...     pass\n... else:\n...     raise Exception(\"should raise an exception\")\n",
         "hidden": false,
         "locked": false
        },
        {
         "code": ">>> try:\n...     cost_of('res')\n... except Exception:\n...     pass\n... else:\n...     raise Exception(\"should raise an exception\")\n",
         "hidden": false,
         "locked": false
        }
       ],
       "scored": true,
       "setup": "",
       "teardown": "",
       "type": "doctest"
      }
     ]
    },
    "q2a": {
     "name": "q2a",
     "points": 2,
     "suites": [
      {
       "cases": [
        {
         "code": ">>> assert cur.execute(avg_sched_dep, [1]).fetchone() == (50709, 1)\n",
         "hidden": false,
         "locked": false
        }
       ],
       "scored": true,
       "setup": "",
       "teardown": "",
       "type": "doctest"
      }
     ]
    },
    "q2b": {
     "name": "q2b",
     "points": 2,
     "suites": [
      {
       "cases": [
        {
         "code": ">>> assert cur.execute(most_deps).fetchone() == (7,)\n",
         "hidden": false,
         "locked": false
        }
       ],
       "scored": true,
       "setup": "",
       "teardown": "",
       "type": "doctest"
      }
     ]
    },
    "q2c": {
     "name": "q2c",
     "points": 3,
     "suites": [
      {
       "cases": [
        {
         "code": ">>> assert cur.execute(high_above, [40]).fetchone() == (48,)\n",
         "hidden": false,
         "locked": false
        },
        {
         "code": ">>> assert cur.execute(high_above, [200]).fetchone() == (364,)\n",
         "hidden": false,
         "locked": false
        }
       ],
       "scored": true,
       "setup": "",
       "teardown": "",
       "type": "doctest"
      }
     ]
    },
    "q2d": {
     "name": "q2d",
     "points": 3,
     "suites": [
      {
       "cases": [
        {
         "code": ">>> res = cur.execute(pct_cancelled).fetchone()\n>>> assert len(res) == 1\n>>> assert abs(res[0] - 0.02451184169) < 1e-5\n",
         "hidden": false,
         "locked": false
        }
       ],
       "scored": true,
       "setup": "",
       "teardown": "",
       "type": "doctest"
      }
     ]
    }
   }
  }
 },
 "nbformat": 4,
 "nbformat_minor": 5
}
